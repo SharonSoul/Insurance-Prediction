{
 "cells": [
  {
   "cell_type": "code",
   "execution_count": 1,
   "id": "073c07d1",
   "metadata": {},
   "outputs": [],
   "source": [
    "# import preprocessing libraries\n",
    "import pandas as pd\n",
    "import numpy as np\n",
    "import matplotlib.pyplot as plt\n",
    "import seaborn as sns"
   ]
  },
  {
   "cell_type": "code",
   "execution_count": 2,
   "id": "aa168e9d",
   "metadata": {},
   "outputs": [],
   "source": [
    "train = pd.read_csv('train_data.csv')\n",
    "test =  pd.read_csv('test_data.csv')\n",
    "ss =  pd.read_csv('SampleSubmission.csv')\n",
    "variables = pd.read_csv('VariableDescription.csv')"
   ]
  },
  {
   "cell_type": "code",
   "execution_count": 3,
   "id": "385bd7c9",
   "metadata": {},
   "outputs": [
    {
     "name": "stdout",
     "output_type": "stream",
     "text": [
      "Train data shape:  (7160, 14)\n",
      "Test data shape:  (3069, 13)\n"
     ]
    }
   ],
   "source": [
    "print('Train data shape: ', train.shape)\n",
    "print('Test data shape: ', test.shape)"
   ]
  },
  {
   "cell_type": "code",
   "execution_count": 4,
   "id": "6063e975",
   "metadata": {},
   "outputs": [
    {
     "name": "stdout",
     "output_type": "stream",
     "text": [
      "<class 'pandas.core.frame.DataFrame'>\n",
      "RangeIndex: 7160 entries, 0 to 7159\n",
      "Data columns (total 14 columns):\n",
      " #   Column              Non-Null Count  Dtype  \n",
      "---  ------              --------------  -----  \n",
      " 0   Customer Id         7160 non-null   object \n",
      " 1   YearOfObservation   7160 non-null   int64  \n",
      " 2   Insured_Period      7160 non-null   float64\n",
      " 3   Residential         7160 non-null   int64  \n",
      " 4   Building_Painted    7160 non-null   object \n",
      " 5   Building_Fenced     7160 non-null   object \n",
      " 6   Garden              7153 non-null   object \n",
      " 7   Settlement          7160 non-null   object \n",
      " 8   Building Dimension  7054 non-null   float64\n",
      " 9   Building_Type       7160 non-null   int64  \n",
      " 10  Date_of_Occupancy   6652 non-null   float64\n",
      " 11  NumberOfWindows     7160 non-null   object \n",
      " 12  Geo_Code            7058 non-null   object \n",
      " 13  Claim               7160 non-null   int64  \n",
      "dtypes: float64(3), int64(4), object(7)\n",
      "memory usage: 783.2+ KB\n"
     ]
    }
   ],
   "source": [
    "train.info()"
   ]
  },
  {
   "cell_type": "code",
   "execution_count": 5,
   "id": "4515c884",
   "metadata": {},
   "outputs": [
    {
     "data": {
      "text/plain": [
       "Customer Id             0\n",
       "YearOfObservation       0\n",
       "Insured_Period          0\n",
       "Residential             0\n",
       "Building_Painted        0\n",
       "Building_Fenced         0\n",
       "Garden                  7\n",
       "Settlement              0\n",
       "Building Dimension    106\n",
       "Building_Type           0\n",
       "Date_of_Occupancy     508\n",
       "NumberOfWindows         0\n",
       "Geo_Code              102\n",
       "Claim                   0\n",
       "dtype: int64"
      ]
     },
     "execution_count": 5,
     "metadata": {},
     "output_type": "execute_result"
    }
   ],
   "source": [
    "train.isna().sum()"
   ]
  },
  {
   "cell_type": "code",
   "execution_count": 6,
   "id": "408ab522",
   "metadata": {},
   "outputs": [
    {
     "data": {
      "text/html": [
       "<div>\n",
       "<style scoped>\n",
       "    .dataframe tbody tr th:only-of-type {\n",
       "        vertical-align: middle;\n",
       "    }\n",
       "\n",
       "    .dataframe tbody tr th {\n",
       "        vertical-align: top;\n",
       "    }\n",
       "\n",
       "    .dataframe thead th {\n",
       "        text-align: right;\n",
       "    }\n",
       "</style>\n",
       "<table border=\"1\" class=\"dataframe\">\n",
       "  <thead>\n",
       "    <tr style=\"text-align: right;\">\n",
       "      <th></th>\n",
       "      <th>Customer Id</th>\n",
       "      <th>YearOfObservation</th>\n",
       "      <th>Insured_Period</th>\n",
       "      <th>Residential</th>\n",
       "      <th>Building_Painted</th>\n",
       "      <th>Building_Fenced</th>\n",
       "      <th>Garden</th>\n",
       "      <th>Settlement</th>\n",
       "      <th>Building Dimension</th>\n",
       "      <th>Building_Type</th>\n",
       "      <th>Date_of_Occupancy</th>\n",
       "      <th>NumberOfWindows</th>\n",
       "      <th>Geo_Code</th>\n",
       "      <th>Claim</th>\n",
       "    </tr>\n",
       "  </thead>\n",
       "  <tbody>\n",
       "    <tr>\n",
       "      <th>0</th>\n",
       "      <td>H14663</td>\n",
       "      <td>2013</td>\n",
       "      <td>1.0</td>\n",
       "      <td>0</td>\n",
       "      <td>N</td>\n",
       "      <td>V</td>\n",
       "      <td>V</td>\n",
       "      <td>U</td>\n",
       "      <td>290.0</td>\n",
       "      <td>1</td>\n",
       "      <td>1960.0</td>\n",
       "      <td>.</td>\n",
       "      <td>1053</td>\n",
       "      <td>0</td>\n",
       "    </tr>\n",
       "    <tr>\n",
       "      <th>1</th>\n",
       "      <td>H2037</td>\n",
       "      <td>2015</td>\n",
       "      <td>1.0</td>\n",
       "      <td>0</td>\n",
       "      <td>V</td>\n",
       "      <td>N</td>\n",
       "      <td>O</td>\n",
       "      <td>R</td>\n",
       "      <td>490.0</td>\n",
       "      <td>1</td>\n",
       "      <td>1850.0</td>\n",
       "      <td>4</td>\n",
       "      <td>1053</td>\n",
       "      <td>0</td>\n",
       "    </tr>\n",
       "    <tr>\n",
       "      <th>2</th>\n",
       "      <td>H3802</td>\n",
       "      <td>2014</td>\n",
       "      <td>1.0</td>\n",
       "      <td>0</td>\n",
       "      <td>N</td>\n",
       "      <td>V</td>\n",
       "      <td>V</td>\n",
       "      <td>U</td>\n",
       "      <td>595.0</td>\n",
       "      <td>1</td>\n",
       "      <td>1960.0</td>\n",
       "      <td>.</td>\n",
       "      <td>1053</td>\n",
       "      <td>0</td>\n",
       "    </tr>\n",
       "    <tr>\n",
       "      <th>3</th>\n",
       "      <td>H3834</td>\n",
       "      <td>2013</td>\n",
       "      <td>1.0</td>\n",
       "      <td>0</td>\n",
       "      <td>V</td>\n",
       "      <td>V</td>\n",
       "      <td>V</td>\n",
       "      <td>U</td>\n",
       "      <td>2840.0</td>\n",
       "      <td>1</td>\n",
       "      <td>1960.0</td>\n",
       "      <td>.</td>\n",
       "      <td>1053</td>\n",
       "      <td>0</td>\n",
       "    </tr>\n",
       "    <tr>\n",
       "      <th>4</th>\n",
       "      <td>H5053</td>\n",
       "      <td>2014</td>\n",
       "      <td>1.0</td>\n",
       "      <td>0</td>\n",
       "      <td>V</td>\n",
       "      <td>N</td>\n",
       "      <td>O</td>\n",
       "      <td>R</td>\n",
       "      <td>680.0</td>\n",
       "      <td>1</td>\n",
       "      <td>1800.0</td>\n",
       "      <td>3</td>\n",
       "      <td>1053</td>\n",
       "      <td>0</td>\n",
       "    </tr>\n",
       "  </tbody>\n",
       "</table>\n",
       "</div>"
      ],
      "text/plain": [
       "  Customer Id  YearOfObservation  Insured_Period  Residential  \\\n",
       "0      H14663               2013             1.0            0   \n",
       "1       H2037               2015             1.0            0   \n",
       "2       H3802               2014             1.0            0   \n",
       "3       H3834               2013             1.0            0   \n",
       "4       H5053               2014             1.0            0   \n",
       "\n",
       "  Building_Painted Building_Fenced Garden Settlement  Building Dimension  \\\n",
       "0                N               V      V          U               290.0   \n",
       "1                V               N      O          R               490.0   \n",
       "2                N               V      V          U               595.0   \n",
       "3                V               V      V          U              2840.0   \n",
       "4                V               N      O          R               680.0   \n",
       "\n",
       "   Building_Type  Date_of_Occupancy NumberOfWindows Geo_Code  Claim  \n",
       "0              1             1960.0               .     1053      0  \n",
       "1              1             1850.0               4     1053      0  \n",
       "2              1             1960.0               .     1053      0  \n",
       "3              1             1960.0               .     1053      0  \n",
       "4              1             1800.0               3     1053      0  "
      ]
     },
     "execution_count": 6,
     "metadata": {},
     "output_type": "execute_result"
    }
   ],
   "source": [
    "train.head()"
   ]
  },
  {
   "cell_type": "code",
   "execution_count": 7,
   "id": "d9fe6e10",
   "metadata": {},
   "outputs": [
    {
     "data": {
      "image/png": "[encoded data removed]",
      "text/plain": [
       "<Figure size 432x288 with 1 Axes>"
      ]
     },
     "metadata": {
      "needs_background": "light"
     },
     "output_type": "display_data"
    }
   ],
   "source": [
    "train['Claim'].value_counts().plot(kind = 'bar', color = 'purple')\n",
    "plt.title('Insurance claim')\n",
    "plt.xlabel('Claim')\n",
    "plt.xticks(rotation = 0)\n",
    "plt.show()"
   ]
  },
  {
   "cell_type": "code",
   "execution_count": 8,
   "id": "6fbc9248",
   "metadata": {},
   "outputs": [],
   "source": [
    "# Dropping not so useful features\\"
   ]
  },
  {
   "cell_type": "code",
   "execution_count": 9,
   "id": "8c8915f9",
   "metadata": {},
   "outputs": [],
   "source": [
    "train.drop(['Customer Id', 'Garden', 'Building_Painted', 'NumberOfWindows'], axis=1, inplace=True)"
   ]
  },
  {
   "cell_type": "code",
   "execution_count": 10,
   "id": "edd76c8b",
   "metadata": {},
   "outputs": [],
   "source": [
    "test.drop(['Customer Id', 'Garden', 'Building_Painted', 'NumberOfWindows'], axis=1, inplace=True)"
   ]
  },
  {
   "cell_type": "code",
   "execution_count": 11,
   "id": "82af1a26",
   "metadata": {},
   "outputs": [
    {
     "name": "stdout",
     "output_type": "stream",
     "text": [
      "<class 'pandas.core.frame.DataFrame'>\n",
      "RangeIndex: 7160 entries, 0 to 7159\n",
      "Data columns (total 10 columns):\n",
      " #   Column              Non-Null Count  Dtype  \n",
      "---  ------              --------------  -----  \n",
      " 0   YearOfObservation   7160 non-null   int64  \n",
      " 1   Insured_Period      7160 non-null   float64\n",
      " 2   Residential         7160 non-null   int64  \n",
      " 3   Building_Fenced     7160 non-null   object \n",
      " 4   Settlement          7160 non-null   object \n",
      " 5   Building Dimension  7054 non-null   float64\n",
      " 6   Building_Type       7160 non-null   int64  \n",
      " 7   Date_of_Occupancy   6652 non-null   float64\n",
      " 8   Geo_Code            7058 non-null   object \n",
      " 9   Claim               7160 non-null   int64  \n",
      "dtypes: float64(3), int64(4), object(3)\n",
      "memory usage: 559.5+ KB\n"
     ]
    }
   ],
   "source": [
    "train.info()"
   ]
  },
  {
   "cell_type": "code",
   "execution_count": 12,
   "id": "375048c0",
   "metadata": {},
   "outputs": [],
   "source": [
    "#train['Date_of_Occupancy'].median()"
   ]
  },
  {
   "cell_type": "code",
   "execution_count": 13,
   "id": "b035ca5a",
   "metadata": {},
   "outputs": [],
   "source": [
    "### Filling null columns"
   ]
  },
  {
   "cell_type": "code",
   "execution_count": 14,
   "id": "08a4ad48",
   "metadata": {},
   "outputs": [],
   "source": [
    "#train['Garden'] = train['Garden'].fillna(train['Garden'].mode()[0])\n",
    "train['Building Dimension'] = train['Building Dimension'].fillna(train['Building Dimension'].mode()[0])\n",
    "train['Date_of_Occupancy'] = train['Date_of_Occupancy'].fillna(train['Date_of_Occupancy'].mode()[0])\n",
    "train['Geo_Code'] = train['Geo_Code'].fillna(train['Geo_Code'].mode()[0])"
   ]
  },
  {
   "cell_type": "code",
   "execution_count": 15,
   "id": "45309145",
   "metadata": {},
   "outputs": [
    {
     "data": {
      "text/plain": [
       "YearOfObservation     0\n",
       "Insured_Period        0\n",
       "Residential           0\n",
       "Building_Fenced       0\n",
       "Settlement            0\n",
       "Building Dimension    0\n",
       "Building_Type         0\n",
       "Date_of_Occupancy     0\n",
       "Geo_Code              0\n",
       "Claim                 0\n",
       "dtype: int64"
      ]
     },
     "execution_count": 15,
     "metadata": {},
     "output_type": "execute_result"
    }
   ],
   "source": [
    "train.isna().sum()"
   ]
  },
  {
   "cell_type": "code",
   "execution_count": 16,
   "id": "a2f51070",
   "metadata": {},
   "outputs": [
    {
     "data": {
      "text/plain": [
       "YearOfObservation       0\n",
       "Insured_Period          0\n",
       "Residential             0\n",
       "Building_Fenced         0\n",
       "Settlement              0\n",
       "Building Dimension     13\n",
       "Building_Type           0\n",
       "Date_of_Occupancy     728\n",
       "Geo_Code               13\n",
       "dtype: int64"
      ]
     },
     "execution_count": 16,
     "metadata": {},
     "output_type": "execute_result"
    }
   ],
   "source": [
    "test.isna().sum()"
   ]
  },
  {
   "cell_type": "code",
   "execution_count": 17,
   "id": "beeccb37",
   "metadata": {},
   "outputs": [],
   "source": [
    "#test['Garden'] = test['Garden'].fillna(test['Garden'].mode()[0])\n",
    "test['Building Dimension'] = test['Building Dimension'].fillna(test['Building Dimension'].mode()[0])\n",
    "test['Date_of_Occupancy'] = test['Date_of_Occupancy'].fillna(test['Date_of_Occupancy'].mode()[0])\n",
    "test['Geo_Code'] = test['Geo_Code'].fillna(test['Geo_Code'].mode()[0])"
   ]
  },
  {
   "cell_type": "code",
   "execution_count": 18,
   "id": "51011a5e",
   "metadata": {},
   "outputs": [
    {
     "data": {
      "text/plain": [
       "YearOfObservation     0\n",
       "Insured_Period        0\n",
       "Residential           0\n",
       "Building_Fenced       0\n",
       "Settlement            0\n",
       "Building Dimension    0\n",
       "Building_Type         0\n",
       "Date_of_Occupancy     0\n",
       "Geo_Code              0\n",
       "dtype: int64"
      ]
     },
     "execution_count": 18,
     "metadata": {},
     "output_type": "execute_result"
    }
   ],
   "source": [
    "test.isna().sum()"
   ]
  },
  {
   "cell_type": "markdown",
   "id": "a0010ba3",
   "metadata": {},
   "source": [
    "### Encoding categorical data"
   ]
  },
  {
   "cell_type": "code",
   "execution_count": 19,
   "id": "d1c08f2d",
   "metadata": {},
   "outputs": [],
   "source": [
    "# import preprocessing\n",
    "from sklearn.preprocessing import LabelEncoder\n",
    "from sklearn.preprocessing import LabelBinarizer"
   ]
  },
  {
   "cell_type": "code",
   "execution_count": 20,
   "id": "41e2b9ae",
   "metadata": {},
   "outputs": [],
   "source": [
    "lab_enc = LabelEncoder()\n",
    "lab_bin = LabelBinarizer()"
   ]
  },
  {
   "cell_type": "code",
   "execution_count": 21,
   "id": "0c0a0f5d",
   "metadata": {},
   "outputs": [],
   "source": [
    "#train['Building_Painted'] = lab_bin.fit_transform(train['Building_Painted'])\n",
    "train['Building_Fenced'] = lab_bin.fit_transform(train['Building_Fenced'])\n",
    "#train['Garden'] = lab_bin.fit_transform(train['Garden'])\n",
    "train['Settlement'] = lab_bin.fit_transform(train['Settlement'])\n",
    "#train['NumberOfWindows'] = lab_enc.fit_transform(train['NumberOfWindows'])\n",
    "train['Geo_Code'] = lab_enc.fit_transform(train['Geo_Code'])"
   ]
  },
  {
   "cell_type": "code",
   "execution_count": 22,
   "id": "fcc11802",
   "metadata": {},
   "outputs": [
    {
     "name": "stdout",
     "output_type": "stream",
     "text": [
      "<class 'pandas.core.frame.DataFrame'>\n",
      "RangeIndex: 7160 entries, 0 to 7159\n",
      "Data columns (total 10 columns):\n",
      " #   Column              Non-Null Count  Dtype  \n",
      "---  ------              --------------  -----  \n",
      " 0   YearOfObservation   7160 non-null   int64  \n",
      " 1   Insured_Period      7160 non-null   float64\n",
      " 2   Residential         7160 non-null   int64  \n",
      " 3   Building_Fenced     7160 non-null   int32  \n",
      " 4   Settlement          7160 non-null   int32  \n",
      " 5   Building Dimension  7160 non-null   float64\n",
      " 6   Building_Type       7160 non-null   int64  \n",
      " 7   Date_of_Occupancy   7160 non-null   float64\n",
      " 8   Geo_Code            7160 non-null   int32  \n",
      " 9   Claim               7160 non-null   int64  \n",
      "dtypes: float64(3), int32(3), int64(4)\n",
      "memory usage: 475.6 KB\n"
     ]
    }
   ],
   "source": [
    "train.info()"
   ]
  },
  {
   "cell_type": "code",
   "execution_count": 23,
   "id": "0441dd4e",
   "metadata": {},
   "outputs": [],
   "source": [
    "#test['Building_Painted'] = lab_bin.fit_transform(test['Building_Painted'])\n",
    "test['Building_Fenced'] = lab_bin.fit_transform(test['Building_Fenced'])\n",
    "#test['Garden'] = lab_bin.fit_transform(test['Garden'])\n",
    "test['Settlement'] = lab_bin.fit_transform(test['Settlement'])\n",
    "#test['NumberOfWindows'] = lab_enc.fit_transform(test['NumberOfWindows'])\n",
    "test['Geo_Code'] = lab_enc.fit_transform(test['Geo_Code'])"
   ]
  },
  {
   "cell_type": "code",
   "execution_count": 24,
   "id": "e08da9e2",
   "metadata": {},
   "outputs": [
    {
     "name": "stdout",
     "output_type": "stream",
     "text": [
      "<class 'pandas.core.frame.DataFrame'>\n",
      "RangeIndex: 3069 entries, 0 to 3068\n",
      "Data columns (total 9 columns):\n",
      " #   Column              Non-Null Count  Dtype  \n",
      "---  ------              --------------  -----  \n",
      " 0   YearOfObservation   3069 non-null   int64  \n",
      " 1   Insured_Period      3069 non-null   float64\n",
      " 2   Residential         3069 non-null   int64  \n",
      " 3   Building_Fenced     3069 non-null   int32  \n",
      " 4   Settlement          3069 non-null   int32  \n",
      " 5   Building Dimension  3069 non-null   float64\n",
      " 6   Building_Type       3069 non-null   int64  \n",
      " 7   Date_of_Occupancy   3069 non-null   float64\n",
      " 8   Geo_Code            3069 non-null   int32  \n",
      "dtypes: float64(3), int32(3), int64(3)\n",
      "memory usage: 179.9 KB\n"
     ]
    }
   ],
   "source": [
    "test.info()"
   ]
  },
  {
   "cell_type": "markdown",
   "id": "29c8ba7b",
   "metadata": {},
   "source": [
    "### Splitting the dataset"
   ]
  },
  {
   "cell_type": "code",
   "execution_count": 25,
   "id": "546cd661",
   "metadata": {},
   "outputs": [],
   "source": [
    "X = train.drop('Claim', axis=1)\n",
    "y = train['Claim']"
   ]
  },
  {
   "cell_type": "code",
   "execution_count": 26,
   "id": "6b405ab9",
   "metadata": {},
   "outputs": [],
   "source": [
    "from sklearn.model_selection import train_test_split"
   ]
  },
  {
   "cell_type": "code",
   "execution_count": 27,
   "id": "bfa1850e",
   "metadata": {},
   "outputs": [],
   "source": [
    "X_train, X_test, y_train, y_test = train_test_split(X,y, test_size = 0.2, random_state = 42)"
   ]
  },
  {
   "cell_type": "markdown",
   "id": "5eca89fb",
   "metadata": {},
   "source": [
    "### Model Building"
   ]
  },
  {
   "cell_type": "code",
   "execution_count": 28,
   "id": "a9afb1bb",
   "metadata": {},
   "outputs": [],
   "source": [
    "from sklearn.metrics import accuracy_score, f1_score"
   ]
  },
  {
   "cell_type": "markdown",
   "id": "98069f7d",
   "metadata": {},
   "source": [
    "#### Random Forest"
   ]
  },
  {
   "cell_type": "code",
   "execution_count": 29,
   "id": "6bd64ed5",
   "metadata": {},
   "outputs": [],
   "source": [
    "from sklearn.ensemble import RandomForestClassifier"
   ]
  },
  {
   "cell_type": "code",
   "execution_count": 30,
   "id": "3267fc9b",
   "metadata": {},
   "outputs": [
    {
     "data": {
      "text/plain": [
       "RandomForestClassifier()"
      ]
     },
     "execution_count": 30,
     "metadata": {},
     "output_type": "execute_result"
    }
   ],
   "source": [
    "random_forest = RandomForestClassifier()\n",
    "\n",
    "random_forest.fit(X_train, y_train)"
   ]
  },
  {
   "cell_type": "code",
   "execution_count": 31,
   "id": "ca010a85",
   "metadata": {},
   "outputs": [],
   "source": [
    "random_prediction = random_forest.predict(X_test)"
   ]
  },
  {
   "cell_type": "code",
   "execution_count": 32,
   "id": "cc95b6db",
   "metadata": {},
   "outputs": [],
   "source": [
    "random_acc = round((accuracy_score(y_test, random_prediction) * 100), 2)\n",
    "random_f1 = round((f1_score(y_test, random_prediction)), 4)"
   ]
  },
  {
   "cell_type": "code",
   "execution_count": 33,
   "id": "9fdc93d0",
   "metadata": {
    "scrolled": true
   },
   "outputs": [
    {
     "name": "stdout",
     "output_type": "stream",
     "text": [
      "The Random Forest classifier has an accuracy of 76.54% and f1 score of 0.3253\n"
     ]
    }
   ],
   "source": [
    "print(f'The Random Forest classifier has an accuracy of {random_acc}% and f1 score of {random_f1}')"
   ]
  },
  {
   "cell_type": "markdown",
   "id": "6b7c778a",
   "metadata": {},
   "source": [
    "#### Gradient Boosting"
   ]
  },
  {
   "cell_type": "code",
   "execution_count": 34,
   "id": "c9290875",
   "metadata": {},
   "outputs": [],
   "source": [
    "from sklearn.ensemble import GradientBoostingClassifier"
   ]
  },
  {
   "cell_type": "code",
   "execution_count": 35,
   "id": "73287106",
   "metadata": {},
   "outputs": [
    {
     "data": {
      "text/plain": [
       "GradientBoostingClassifier()"
      ]
     },
     "execution_count": 35,
     "metadata": {},
     "output_type": "execute_result"
    }
   ],
   "source": [
    "gradient_boost = GradientBoostingClassifier()\n",
    "\n",
    "gradient_boost.fit(X_train, y_train)"
   ]
  },
  {
   "cell_type": "code",
   "execution_count": 36,
   "id": "44c930cc",
   "metadata": {},
   "outputs": [],
   "source": [
    "gradient_pred = gradient_boost.predict(X_test)"
   ]
  },
  {
   "cell_type": "code",
   "execution_count": 37,
   "id": "c778cd4c",
   "metadata": {},
   "outputs": [],
   "source": [
    "gradient_acc = round((accuracy_score(y_test, gradient_pred)*100), 2)\n",
    "gradient_f1 = round((f1_score(y_test, gradient_pred)), 4)"
   ]
  },
  {
   "cell_type": "code",
   "execution_count": 38,
   "id": "fbc6f884",
   "metadata": {},
   "outputs": [
    {
     "name": "stdout",
     "output_type": "stream",
     "text": [
      "accuracy score:  78.14\n",
      "f1_score:  0.2805\n"
     ]
    }
   ],
   "source": [
    "print('accuracy score: ', gradient_acc)\n",
    "print('f1_score: ', gradient_f1)"
   ]
  },
  {
   "cell_type": "markdown",
   "id": "c1e8b103",
   "metadata": {},
   "source": [
    "#### SVC"
   ]
  },
  {
   "cell_type": "code",
   "execution_count": 39,
   "id": "73661d70",
   "metadata": {},
   "outputs": [],
   "source": [
    "from sklearn.svm import SVC"
   ]
  },
  {
   "cell_type": "code",
   "execution_count": 40,
   "id": "71607dc0",
   "metadata": {},
   "outputs": [
    {
     "data": {
      "text/plain": [
       "SVC()"
      ]
     },
     "execution_count": 40,
     "metadata": {},
     "output_type": "execute_result"
    }
   ],
   "source": [
    "svm_model = SVC()\n",
    "\n",
    "svm_model.fit(X_train, y_train)"
   ]
  },
  {
   "cell_type": "code",
   "execution_count": 41,
   "id": "eeb56d09",
   "metadata": {},
   "outputs": [],
   "source": [
    "svm_prediction = svm_model.predict(X_test)"
   ]
  },
  {
   "cell_type": "code",
   "execution_count": 42,
   "id": "f7d5749d",
   "metadata": {},
   "outputs": [],
   "source": [
    "svm_acc = round((accuracy_score(y_test, svm_prediction)* 100), 2)\n",
    "svm_f1 = round((f1_score(y_test, svm_prediction)), 4)"
   ]
  },
  {
   "cell_type": "code",
   "execution_count": 43,
   "id": "7cbc2d9b",
   "metadata": {
    "scrolled": true
   },
   "outputs": [
    {
     "name": "stdout",
     "output_type": "stream",
     "text": [
      "accuracy score:  77.3\n",
      "f1_score:  0.1688\n"
     ]
    }
   ],
   "source": [
    "print('accuracy score: ', svm_acc)\n",
    "print('f1_score: ', svm_f1)"
   ]
  },
  {
   "cell_type": "markdown",
   "id": "132afe5f",
   "metadata": {},
   "source": [
    "#### KNN"
   ]
  },
  {
   "cell_type": "code",
   "execution_count": 44,
   "id": "b5a869ad",
   "metadata": {},
   "outputs": [],
   "source": [
    "from sklearn.neighbors import KNeighborsClassifier"
   ]
  },
  {
   "cell_type": "code",
   "execution_count": 45,
   "id": "559ae4e2",
   "metadata": {},
   "outputs": [
    {
     "data": {
      "text/plain": [
       "KNeighborsClassifier()"
      ]
     },
     "execution_count": 45,
     "metadata": {},
     "output_type": "execute_result"
    }
   ],
   "source": [
    "KNN_model = KNeighborsClassifier()\n",
    "\n",
    "KNN_model.fit(X_train, y_train)"
   ]
  },
  {
   "cell_type": "code",
   "execution_count": 46,
   "id": "f162aeae",
   "metadata": {},
   "outputs": [],
   "source": [
    "KNN_prediction = KNN_model.predict(X_test)"
   ]
  },
  {
   "cell_type": "code",
   "execution_count": 47,
   "id": "027c37cd",
   "metadata": {},
   "outputs": [],
   "source": [
    "KNN_acc = round((accuracy_score(y_test, KNN_prediction)*100), 2)\n",
    "KNN_f1 = round((f1_score(y_test, KNN_prediction)), 4)"
   ]
  },
  {
   "cell_type": "code",
   "execution_count": 48,
   "id": "e95fec5a",
   "metadata": {},
   "outputs": [
    {
     "name": "stdout",
     "output_type": "stream",
     "text": [
      "accuracy score:  75.14\n",
      "f1_score:  0.3456\n"
     ]
    }
   ],
   "source": [
    "print('accuracy score: ', KNN_acc)\n",
    "print('f1_score: ', KNN_f1)"
   ]
  },
  {
   "cell_type": "markdown",
   "id": "91cb001e",
   "metadata": {},
   "source": [
    "#### Naive Bayes"
   ]
  },
  {
   "cell_type": "code",
   "execution_count": 49,
   "id": "09e07a16",
   "metadata": {},
   "outputs": [],
   "source": [
    "from sklearn.naive_bayes import GaussianNB"
   ]
  },
  {
   "cell_type": "code",
   "execution_count": 50,
   "id": "9c192a41",
   "metadata": {},
   "outputs": [
    {
     "data": {
      "text/plain": [
       "GaussianNB()"
      ]
     },
     "execution_count": 50,
     "metadata": {},
     "output_type": "execute_result"
    }
   ],
   "source": [
    "naive_model = GaussianNB()\n",
    "\n",
    "naive_model.fit(X_train, y_train)"
   ]
  },
  {
   "cell_type": "code",
   "execution_count": 51,
   "id": "71fb972e",
   "metadata": {},
   "outputs": [],
   "source": [
    "naive_prediction = naive_model.predict(X_test)"
   ]
  },
  {
   "cell_type": "code",
   "execution_count": 52,
   "id": "4cb03951",
   "metadata": {},
   "outputs": [],
   "source": [
    "naive_acc = round((accuracy_score(y_test, naive_prediction)*100), 2)\n",
    "naive_f1 = round((f1_score(y_test, naive_prediction)), 4)"
   ]
  },
  {
   "cell_type": "code",
   "execution_count": 53,
   "id": "997f1217",
   "metadata": {},
   "outputs": [
    {
     "name": "stdout",
     "output_type": "stream",
     "text": [
      "accuracy score:  77.23\n",
      "f1_score:  0.2974\n"
     ]
    }
   ],
   "source": [
    "print('accuracy score: ', naive_acc)\n",
    "print('f1_score: ', naive_f1)"
   ]
  },
  {
   "cell_type": "markdown",
   "id": "04864d4c",
   "metadata": {},
   "source": [
    "#### Decision Tree"
   ]
  },
  {
   "cell_type": "code",
   "execution_count": 54,
   "id": "0737c1fc",
   "metadata": {},
   "outputs": [],
   "source": [
    "from sklearn.tree import DecisionTreeClassifier"
   ]
  },
  {
   "cell_type": "code",
   "execution_count": 55,
   "id": "c3288170",
   "metadata": {},
   "outputs": [
    {
     "data": {
      "text/plain": [
       "DecisionTreeClassifier()"
      ]
     },
     "execution_count": 55,
     "metadata": {},
     "output_type": "execute_result"
    }
   ],
   "source": [
    "decision_model = DecisionTreeClassifier()\n",
    "\n",
    "decision_model.fit(X_train, y_train)"
   ]
  },
  {
   "cell_type": "code",
   "execution_count": 56,
   "id": "d3919582",
   "metadata": {},
   "outputs": [],
   "source": [
    "decision_prediction = decision_model.predict(X_test)"
   ]
  },
  {
   "cell_type": "code",
   "execution_count": 57,
   "id": "cfa5d206",
   "metadata": {},
   "outputs": [],
   "source": [
    "decision_acc = round((accuracy_score(y_test, decision_prediction)*100), 2)\n",
    "decision_f1 = round((f1_score(y_test, decision_prediction)), 4)"
   ]
  },
  {
   "cell_type": "code",
   "execution_count": 58,
   "id": "964bd6fe",
   "metadata": {
    "scrolled": true
   },
   "outputs": [
    {
     "name": "stdout",
     "output_type": "stream",
     "text": [
      "accuracy score:  68.44\n",
      "f1_score:  0.3543\n"
     ]
    }
   ],
   "source": [
    "print('accuracy score: ', decision_acc)\n",
    "print('f1_score: ', decision_f1)"
   ]
  },
  {
   "cell_type": "code",
   "execution_count": 59,
   "id": "9b975bb0",
   "metadata": {},
   "outputs": [
    {
     "data": {
      "text/html": [
       "<div>\n",
       "<style scoped>\n",
       "    .dataframe tbody tr th:only-of-type {\n",
       "        vertical-align: middle;\n",
       "    }\n",
       "\n",
       "    .dataframe tbody tr th {\n",
       "        vertical-align: top;\n",
       "    }\n",
       "\n",
       "    .dataframe thead th {\n",
       "        text-align: right;\n",
       "    }\n",
       "</style>\n",
       "<table border=\"1\" class=\"dataframe\">\n",
       "  <thead>\n",
       "    <tr style=\"text-align: right;\">\n",
       "      <th></th>\n",
       "      <th>Customer Id</th>\n",
       "      <th>Claim</th>\n",
       "    </tr>\n",
       "  </thead>\n",
       "  <tbody>\n",
       "    <tr>\n",
       "      <th>0</th>\n",
       "      <td>H0</td>\n",
       "      <td>1</td>\n",
       "    </tr>\n",
       "    <tr>\n",
       "      <th>1</th>\n",
       "      <td>H10000</td>\n",
       "      <td>1</td>\n",
       "    </tr>\n",
       "    <tr>\n",
       "      <th>2</th>\n",
       "      <td>H10001</td>\n",
       "      <td>1</td>\n",
       "    </tr>\n",
       "    <tr>\n",
       "      <th>3</th>\n",
       "      <td>H10002</td>\n",
       "      <td>1</td>\n",
       "    </tr>\n",
       "    <tr>\n",
       "      <th>4</th>\n",
       "      <td>H10003</td>\n",
       "      <td>1</td>\n",
       "    </tr>\n",
       "  </tbody>\n",
       "</table>\n",
       "</div>"
      ],
      "text/plain": [
       "  Customer Id  Claim\n",
       "0          H0      1\n",
       "1      H10000      1\n",
       "2      H10001      1\n",
       "3      H10002      1\n",
       "4      H10003      1"
      ]
     },
     "execution_count": 59,
     "metadata": {},
     "output_type": "execute_result"
    }
   ],
   "source": [
    "ss.head()"
   ]
  },
  {
   "cell_type": "code",
   "execution_count": 60,
   "id": "0d895cfa",
   "metadata": {},
   "outputs": [],
   "source": [
    "test2 = pd.read_csv('test_data.csv')"
   ]
  },
  {
   "cell_type": "code",
   "execution_count": 61,
   "id": "d40cedae",
   "metadata": {},
   "outputs": [],
   "source": [
    "final_pred_naive = naive_model.predict(test)"
   ]
  },
  {
   "cell_type": "code",
   "execution_count": 62,
   "id": "823be3dd",
   "metadata": {},
   "outputs": [
    {
     "data": {
      "text/plain": [
       "(3069,)"
      ]
     },
     "execution_count": 62,
     "metadata": {},
     "output_type": "execute_result"
    }
   ],
   "source": [
    "final_pred_naive.shape"
   ]
  },
  {
   "cell_type": "code",
   "execution_count": 63,
   "id": "26a0a6a7",
   "metadata": {},
   "outputs": [],
   "source": [
    "final_naive_prediction = pd.DataFrame({'Customer Id': test2['Customer Id'],\n",
    "                           'Claim':final_pred_naive})"
   ]
  },
  {
   "cell_type": "code",
   "execution_count": 64,
   "id": "a62fb009",
   "metadata": {},
   "outputs": [],
   "source": [
    "final_naive_prediction.to_csv('Insurance Prediction naive.csv', index=False)"
   ]
  },
  {
   "cell_type": "code",
   "execution_count": 65,
   "id": "0fdbf71f",
   "metadata": {},
   "outputs": [],
   "source": [
    "# gradient boost"
   ]
  },
  {
   "cell_type": "code",
   "execution_count": 66,
   "id": "39b16673",
   "metadata": {},
   "outputs": [],
   "source": [
    "grad_final_pred = gradient_boost.predict(test)\n",
    "\n",
    "final_gradient_prediction = pd.DataFrame({'Customer Id': test2['Customer Id'],\n",
    "                           'Claim':grad_final_pred})\n",
    "\n",
    "final_gradient_prediction.to_csv('Insurance Prediction gradient.csv', index=False)"
   ]
  },
  {
   "cell_type": "code",
   "execution_count": 67,
   "id": "5b6f4a7f",
   "metadata": {},
   "outputs": [],
   "source": [
    "KNN_final_pred = KNN_model.predict(test)\n",
    "\n",
    "final_KNN_prediction = pd.DataFrame({'Customer Id': test2['Customer Id'],\n",
    "                           'Claim':KNN_final_pred})\n",
    "\n",
    "final_KNN_prediction.to_csv('Insurance Prediction KNN.csv', index=False)"
   ]
  },
  {
   "cell_type": "code",
   "execution_count": 68,
   "id": "78d6ebc5",
   "metadata": {},
   "outputs": [],
   "source": [
    "random_final_pred = random_forest.predict(test)\n",
    "\n",
    "final_random_prediction = pd.DataFrame({'Customer Id': test2['Customer Id'],\n",
    "                           'Claim':random_final_pred})\n",
    "\n",
    "final_random_prediction.to_csv('Insurance Prediction random.csv', index=False)"
   ]
  },
  {
   "cell_type": "code",
   "execution_count": 69,
   "id": "2dd18bba",
   "metadata": {},
   "outputs": [],
   "source": [
    "svm_final_pred = svm_model.predict(test)\n",
    "\n",
    "final_svm_prediction = pd.DataFrame({'Customer Id': test2['Customer Id'],\n",
    "                           'Claim':svm_final_pred})\n",
    "\n",
    "final_svm_prediction.to_csv('Insurance Prediction svm.csv', index=False)"
   ]
  },
  {
   "cell_type": "code",
   "execution_count": 70,
   "id": "f978e9a2",
   "metadata": {},
   "outputs": [],
   "source": [
    "decision_final_pred = decision_model.predict(test)\n",
    "\n",
    "final_decision_prediction = pd.DataFrame({'Customer Id': test2['Customer Id'],\n",
    "                           'Claim':decision_final_pred})\n",
    "\n",
    "final_decision_prediction.to_csv('Insurance Prediction decision.csv', index=False)"
   ]
  },
  {
   "cell_type": "code",
   "execution_count": 74,
   "id": "53e50eb1",
   "metadata": {},
   "outputs": [],
   "source": [
    "import pickle"
   ]
  },
  {
   "cell_type": "code",
   "execution_count": 75,
   "id": "52c479c6",
   "metadata": {},
   "outputs": [],
   "source": [
    "filename = \"insuranceModel.sav\"\n",
    "pickle.dump(gradient_boost, open(filename, \"wb\"))"
   ]
  },
  {
   "cell_type": "code",
   "execution_count": 77,
   "id": "560c5134",
   "metadata": {},
   "outputs": [],
   "source": [
    "filename = \"insuranceMod.sav\"\n",
    "pickle.dump(random_forest, open(filename, \"wb\"))"
   ]
  },
  {
   "cell_type": "code",
   "execution_count": null,
   "id": "1a635490",
   "metadata": {},
   "outputs": [],
   "source": []
  }
 ],
 "metadata": {
  "kernelspec": {
   "display_name": "Python 3 (ipykernel)",
   "language": "python",
   "name": "python3"
  },
  "language_info": {
   "codemirror_mode": {
    "name": "ipython",
    "version": 3
   },
   "file_extension": ".py",
   "mimetype": "text/x-python",
   "name": "python",
   "nbconvert_exporter": "python",
   "pygments_lexer": "ipython3",
   "version": "3.9.12"
  }
 },
 "nbformat": 4,
 "nbformat_minor": 5
}
